{
 "cells": [
  {
   "cell_type": "code",
   "id": "initial_id",
   "metadata": {
    "collapsed": true,
    "ExecuteTime": {
     "end_time": "2025-01-29T22:53:37.986054Z",
     "start_time": "2025-01-29T22:53:37.465832Z"
    }
   },
   "source": [
    "import pandas as pd\n",
    "import seaborn as sns\n",
    "import gc\n",
    "import matplotlib.pyplot as plt\n",
    "import numpy as np\n",
    "import polars as pl\n",
    "import statsmodels.api as sm\n",
    "import scipy\n",
    "import plotly.express as px\n",
    "from scipy.fft import fft\n",
    "from scipy.signal import lombscargle\n",
    "from statsmodels.formula.api import ols\n",
    "from statsmodels.stats.anova import anova_lm\n",
    "from sklearn.preprocessing import StandardScaler\n",
    "from sklearn.decomposition import PCA\n",
    "from sklearn.cluster import KMeans\n",
    "from sklearn.metrics import silhouette_score\n",
    "from pprint import pprint\n",
    "from scipy import stats\n",
    "import random\n",
    "from sklearn.linear_model import LinearRegression\n",
    "from sklearn.preprocessing import PolynomialFeatures\n",
    "from scipy.stats import ttest_ind\n",
    "from matplotlib.pyplot import tick_params\n",
    "from sklearn.impute import SimpleImputer\n",
    "import xgboost as xgb\n",
    "import xgboost as xgb\n",
    "from sklearn.model_selection import train_test_split\n",
    "from sklearn.metrics import mean_squared_error\n",
    "\n",
    "\n",
    "pl.disable_string_cache()\n",
    "pl.Config.set_streaming_chunk_size(10000)"
   ],
   "outputs": [
    {
     "data": {
      "text/plain": [
       "polars.config.Config"
      ]
     },
     "execution_count": 1,
     "metadata": {},
     "output_type": "execute_result"
    }
   ],
   "execution_count": 1
  },
  {
   "metadata": {
    "ExecuteTime": {
     "end_time": "2025-01-29T22:53:38.034923Z",
     "start_time": "2025-01-29T22:53:38.000282Z"
    }
   },
   "cell_type": "code",
   "source": [
    "# Loading the dataset (mmt.parquet)\n",
    "columns = [ \"Epoch\", \"range_km\", \"Mag\", \"sat_j2000\", \"obs_j2000\", \"az_rad\", \"el_rad\", 'phase_angle_rad', 'Channel','Filter', \"Track\", \"epsecs\", \"Satellite\"]\n",
    "\n",
    "N = 300000000\n",
    "lf = pl.scan_parquet(\"mmt.parquet\").limit(n=N).select(columns)\n",
    "print(lf.collect_schema())"
   ],
   "id": "b2a41618a9be381",
   "outputs": [
    {
     "name": "stdout",
     "output_type": "stream",
     "text": [
      "Schema({'Epoch': Datetime(time_unit='ms', time_zone='UTC'), 'range_km': Float32, 'Mag': Float32, 'sat_j2000': Array(Float32, shape=(3,)), 'obs_j2000': Array(Float32, shape=(3,)), 'az_rad': Float32, 'el_rad': Float32, 'phase_angle_rad': Float32, 'Channel': UInt8, 'Filter': String, 'Track': UInt32, 'epsecs': Float32, 'Satellite': UInt32})\n"
     ]
    }
   ],
   "execution_count": 2
  },
  {
   "metadata": {
    "ExecuteTime": {
     "end_time": "2025-01-29T22:54:18.455508Z",
     "start_time": "2025-01-29T22:53:38.120266Z"
    }
   },
   "cell_type": "code",
   "source": [
    "# Sampling the dataset\n",
    "sample_rate = 0.01\n",
    "lf = lf.with_row_index(\"row_num\")\n",
    "\n",
    "sampled_lf = lf.filter(pl.col(\"row_num\") % int(1/sample_rate) == 0)\n",
    "sampled_df = sampled_lf.collect()\n",
    "\n",
    "print(sampled_df.shape)\n",
    "sampled_df.describe()\n",
    "sampled_df = sampled_df.to_pandas()"
   ],
   "id": "3d11524d7b72a37d",
   "outputs": [
    {
     "name": "stdout",
     "output_type": "stream",
     "text": [
      "(2786335, 14)\n"
     ]
    }
   ],
   "execution_count": 3
  },
  {
   "metadata": {
    "ExecuteTime": {
     "end_time": "2025-01-29T22:54:18.856330Z",
     "start_time": "2025-01-29T22:54:18.638946Z"
    }
   },
   "cell_type": "code",
   "source": [
    "sampled_df_V1 = sampled_df.drop(['Epoch', 'sat_j2000', 'obs_j2000', 'Filter'], axis=1)\n",
    "X = sampled_df_V1.drop('Mag', axis=1)\n",
    "y = sampled_df_V1['Mag']\n",
    "X_train, X_test, y_train, y_test = train_test_split(X, y, test_size=0.2, random_state=42)"
   ],
   "id": "c46472c63453ac1b",
   "outputs": [],
   "execution_count": 4
  },
  {
   "metadata": {
    "ExecuteTime": {
     "end_time": "2025-01-29T22:54:19.684593Z",
     "start_time": "2025-01-29T22:54:18.899816Z"
    }
   },
   "cell_type": "code",
   "source": [
    "dtrain = xgb.DMatrix(X_train, label=y_train)\n",
    "dtest = xgb.DMatrix(X_test, label=y_test)"
   ],
   "id": "2e6cbba7c583cb64",
   "outputs": [],
   "execution_count": 5
  },
  {
   "metadata": {
    "ExecuteTime": {
     "end_time": "2025-01-29T22:54:22.585025Z",
     "start_time": "2025-01-29T22:54:19.709442Z"
    }
   },
   "cell_type": "code",
   "source": [
    "params = {\n",
    "    'objective': 'reg:squarederror',\n",
    "    'max_depth': 6,\n",
    "    'eta': 0.3,\n",
    "    'eval_metric': 'rmse'\n",
    "}\n",
    "\n",
    "\n",
    "num_round = 100\n",
    "bst = xgb.train(params, dtrain, num_round)"
   ],
   "id": "1d8f6589ce2a7179",
   "outputs": [],
   "execution_count": 6
  },
  {
   "metadata": {
    "ExecuteTime": {
     "end_time": "2025-01-29T22:54:22.805679Z",
     "start_time": "2025-01-29T22:54:22.660742Z"
    }
   },
   "cell_type": "code",
   "source": [
    "preds = bst.predict(dtest)\n",
    "\n",
    "# Calculate RMSE\n",
    "mse = mean_squared_error(y_test, preds)\n",
    "rmse = np.sqrt(mse)\n",
    "print(f'RMSE: {rmse}')\n",
    "\n",
    "print(preds[:10])"
   ],
   "id": "2a567a04601cc86d",
   "outputs": [
    {
     "name": "stdout",
     "output_type": "stream",
     "text": [
      "RMSE: 0.8344862631575131\n",
      "[7.2897944 6.0398784 7.7613125 6.8814545 8.07573   8.201612  8.299473\n",
      " 7.702862  8.295625  7.220976 ]\n"
     ]
    }
   ],
   "execution_count": 7
  },
  {
   "metadata": {
    "ExecuteTime": {
     "end_time": "2025-01-29T22:54:22.868367Z",
     "start_time": "2025-01-29T22:54:22.859350Z"
    }
   },
   "cell_type": "code",
   "source": [
    "# Calculate RMSE\n",
    "mse = mean_squared_error(y_test, preds)\n",
    "rmse = np.sqrt(mse)\n",
    "print(f'RMSE: {rmse}')\n",
    "\n",
    "mag_range = y.max() - y.min()\n",
    "print(f'Range of Mag: {mag_range}')\n",
    "\n",
    "rmse_percentage = (rmse / mag_range) * 100\n",
    "print(f'RMSE as a percentage of the range of Mag: {rmse_percentage:.3f}%')"
   ],
   "id": "9a403ecb0112fe3c",
   "outputs": [
    {
     "name": "stdout",
     "output_type": "stream",
     "text": [
      "RMSE: 0.8344862631575131\n",
      "Range of Mag: 13.680879592895508\n",
      "RMSE as a percentage of the range of Mag: 6.100%\n"
     ]
    }
   ],
   "execution_count": 8
  },
  {
   "metadata": {},
   "cell_type": "markdown",
   "source": [
    "# Conclusion\n",
    "The RMSE is 0.8344 and the range is 13.6 which means the RMSE is 6.1% of the range of the target variable 'Mag'. This indicates that the model is making predictions with a reasonable level of accuracy."
   ],
   "id": "f55852b2f5e63e69"
  },
  {
   "metadata": {},
   "cell_type": "markdown",
   "source": "#### Though Channel and Track did not have significant correlation with Mag, we can still try to predict the Track using the other features.",
   "id": "cfae1c49ffd46970"
  },
  {
   "metadata": {
    "ExecuteTime": {
     "end_time": "2025-01-29T22:54:48.180459Z",
     "start_time": "2025-01-29T22:54:22.941624Z"
    }
   },
   "cell_type": "code",
   "source": [
    "from sklearn.metrics import accuracy_score\n",
    "import numpy as np\n",
    "from sklearn.preprocessing import LabelEncoder\n",
    "\n",
    "X_channel = sampled_df_V1.drop('Channel', axis=1)\n",
    "y_channel = sampled_df_V1['Channel']\n",
    "\n",
    "label_encoder = LabelEncoder()\n",
    "y_channel_encoded = label_encoder.fit_transform(y_channel)\n",
    "\n",
    "X_train_channel, X_test_channel, y_train_channel, y_test_channel = train_test_split(\n",
    "    X_channel, y_channel_encoded, test_size=0.2, random_state=42\n",
    ")\n",
    "\n",
    "dtrain_channel = xgb.DMatrix(X_train_channel, label=y_train_channel)\n",
    "dtest_channel = xgb.DMatrix(X_test_channel, label=y_test_channel)\n",
    "\n",
    "params_channel = {\n",
    "    'objective': 'multi:softmax',  # Multi-class classification\n",
    "    'num_class': len(np.unique(y_channel_encoded)),  # Number of classes\n",
    "    'max_depth': 6,\n",
    "    'eta': 0.3,\n",
    "    'eval_metric': 'merror'\n",
    "}\n",
    "\n",
    "num_round = 100\n",
    "bst_channel = xgb.train(params_channel, dtrain_channel, num_round)\n",
    "\n",
    "preds_channel = bst_channel.predict(dtest_channel).astype(int)\n",
    "\n",
    "accuracy_channel = accuracy_score(y_test_channel, preds_channel)\n",
    "print(f'Accuracy for Channel prediction: {accuracy_channel:.4f}')\n"
   ],
   "id": "113206d5605e35f0",
   "outputs": [
    {
     "name": "stdout",
     "output_type": "stream",
     "text": [
      "Accuracy for Channel prediction: 0.3955\n"
     ]
    }
   ],
   "execution_count": 9
  },
  {
   "metadata": {
    "ExecuteTime": {
     "end_time": "2025-01-29T22:54:48.219724Z",
     "start_time": "2025-01-29T22:54:48.212240Z"
    }
   },
   "cell_type": "code",
   "source": [
    "rmse_channel = np.sqrt(mean_squared_error(y_test_channel, preds_channel))\n",
    "print(f'RMSE for Channel prediction: {rmse_channel:.4f}')"
   ],
   "id": "fd761c754a772aa4",
   "outputs": [
    {
     "name": "stdout",
     "output_type": "stream",
     "text": [
      "RMSE for Channel prediction: 2.9146\n"
     ]
    }
   ],
   "execution_count": 10
  }
 ],
 "metadata": {
  "kernelspec": {
   "display_name": "Python 3",
   "language": "python",
   "name": "python3"
  },
  "language_info": {
   "codemirror_mode": {
    "name": "ipython",
    "version": 2
   },
   "file_extension": ".py",
   "mimetype": "text/x-python",
   "name": "python",
   "nbconvert_exporter": "python",
   "pygments_lexer": "ipython2",
   "version": "2.7.6"
  }
 },
 "nbformat": 4,
 "nbformat_minor": 5
}
