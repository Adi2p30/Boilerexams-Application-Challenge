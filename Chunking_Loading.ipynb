{
 "cells": [
  {
   "cell_type": "code",
   "id": "initial_id",
   "metadata": {
    "collapsed": true,
    "ExecuteTime": {
     "end_time": "2025-01-29T20:03:46.387939Z",
     "start_time": "2025-01-29T20:03:46.146430Z"
    }
   },
   "source": [
    "# Importing the required libraries for all the notebooks in this project\n",
    "\n",
    "import pandas as pd\n",
    "import seaborn as sns\n",
    "import matplotlib.pyplot as plt\n",
    "import numpy as np\n",
    "import polars as pl\n",
    "import statsmodels as sm\n",
    "import polars as pl\n",
    "import scipy\n",
    "import seaborn as sns\n",
    "import plotly.express as px\n",
    "import matplotlib.pyplot as plt\n",
    "import numpy as np\n",
    "from pprint import pprint\n",
    "from scipy import stats\n",
    "from sklearn.preprocessing import StandardScaler\n",
    "from sklearn.linear_model import LinearRegression\n",
    "from sklearn.preprocessing import PolynomialFeatures\n",
    "from scipy.stats import ttest_ind\n",
    "from matplotlib.pyplot import tick_params\n",
    "\n",
    "pl.enable_string_cache()\n",
    "pl.Config.set_streaming_chunk_size(10000)"
   ],
   "outputs": [
    {
     "data": {
      "text/plain": [
       "polars.config.Config"
      ]
     },
     "execution_count": 2,
     "metadata": {},
     "output_type": "execute_result"
    }
   ],
   "execution_count": 2
  },
  {
   "metadata": {
    "ExecuteTime": {
     "end_time": "2025-01-29T20:04:03.439413Z",
     "start_time": "2025-01-29T20:03:46.392780Z"
    }
   },
   "cell_type": "code",
   "source": [
    "pl.enable_string_cache()\n",
    "\n",
    "# Set the streaming chunk size\n",
    "pl.Config.set_streaming_chunk_size(10000)\n",
    "\n",
    "columns = [\n",
    "    \"Epoch\",\n",
    "    \"range_km\",\n",
    "    \"Mag\",\n",
    "    \"Track\",\n",
    "    \"epsecs\",\n",
    "    \"Satellite\",\n",
    "    \"sat_j2000\",\n",
    "    \"obs_j2000\",\n",
    "    \"az_rad\",\n",
    "    \"el_rad\",\n",
    "    'phase_angle_rad'\n",
    "]\n",
    "\n",
    "N = 300000000\n",
    "lf = pl.scan_parquet(\"mmt.parquet\").limit(n=N).select(columns)\n",
    "\n",
    "df = lf.collect()\n",
    "print(df.head())"
   ],
   "id": "d11261994222852c",
   "outputs": [
    {
     "name": "stdout",
     "output_type": "stream",
     "text": [
      "shape: (5, 11)\n",
      "┌─────────────┬────────────┬─────────┬─────────┬───┬────────────┬──────────┬──────────┬────────────┐\n",
      "│ Epoch       ┆ range_km   ┆ Mag     ┆ Track   ┆ … ┆ obs_j2000  ┆ az_rad   ┆ el_rad   ┆ phase_angl │\n",
      "│ ---         ┆ ---        ┆ ---     ┆ ---     ┆   ┆ ---        ┆ ---      ┆ ---      ┆ e_rad      │\n",
      "│ datetime[ms ┆ f32        ┆ f32     ┆ u32     ┆   ┆ array[f32, ┆ f32      ┆ f32      ┆ ---        │\n",
      "│ , UTC]      ┆            ┆         ┆         ┆   ┆ 3]         ┆          ┆          ┆ f32        │\n",
      "╞═════════════╪════════════╪═════════╪═════════╪═══╪════════════╪══════════╪══════════╪════════════╡\n",
      "│ 2014-08-17  ┆ 1193.54748 ┆ 4.91212 ┆ 1576304 ┆ … ┆ [4250.5957 ┆ 4.994911 ┆ 0.549699 ┆ 0.853081   │\n",
      "│ 01:07:10.15 ┆ 5          ┆         ┆         ┆   ┆ 03, 1834.4 ┆          ┆          ┆            │\n",
      "│ 3 UTC       ┆            ┆         ┆         ┆   ┆ 79736,     ┆          ┆          ┆            │\n",
      "│             ┆            ┆         ┆         ┆   ┆ 437…       ┆          ┆          ┆            │\n",
      "│ 2014-08-17  ┆ 1193.62829 ┆ 4.95134 ┆ 1576304 ┆ … ┆ [4250.5825 ┆ 4.99416  ┆ 0.549654 ┆ 0.852441   │\n",
      "│ 01:07:10.25 ┆ 6          ┆         ┆         ┆   ┆ 2, 1834.51 ┆          ┆          ┆            │\n",
      "│ 3 UTC       ┆            ┆         ┆         ┆   ┆ 0742,      ┆          ┆          ┆            │\n",
      "│             ┆            ┆         ┆         ┆   ┆ 4375…      ┆          ┆          ┆            │\n",
      "│ 2014-08-17  ┆ 1193.70947 ┆ 4.88583 ┆ 1576304 ┆ … ┆ [4250.5688 ┆ 4.99341  ┆ 0.549608 ┆ 0.851802   │\n",
      "│ 01:07:10.35 ┆ 3          ┆         ┆         ┆   ┆ 48, 1834.5 ┆          ┆          ┆            │\n",
      "│ 3 UTC       ┆            ┆         ┆         ┆   ┆ 41626,     ┆          ┆          ┆            │\n",
      "│             ┆            ┆         ┆         ┆   ┆ 437…       ┆          ┆          ┆            │\n",
      "│ 2014-08-17  ┆ 1193.79113 ┆ 4.93736 ┆ 1576304 ┆ … ┆ [4250.5556 ┆ 4.992659 ┆ 0.549562 ┆ 0.851163   │\n",
      "│ 01:07:10.45 ┆ 8          ┆         ┆         ┆   ┆ 64, 1834.5 ┆          ┆          ┆            │\n",
      "│ 3 UTC       ┆            ┆         ┆         ┆   ┆ 72632,     ┆          ┆          ┆            │\n",
      "│             ┆            ┆         ┆         ┆   ┆ 437…       ┆          ┆          ┆            │\n",
      "│ 2014-08-17  ┆ 1193.87329 ┆ 4.99663 ┆ 1576304 ┆ … ┆ [4250.5424 ┆ 4.991909 ┆ 0.549516 ┆ 0.850524   │\n",
      "│ 01:07:10.55 ┆ 1          ┆         ┆         ┆   ┆ 8, 1834.60 ┆          ┆          ┆            │\n",
      "│ 3 UTC       ┆            ┆         ┆         ┆   ┆ 3516,      ┆          ┆          ┆            │\n",
      "│             ┆            ┆         ┆         ┆   ┆ 4375…      ┆          ┆          ┆            │\n",
      "└─────────────┴────────────┴─────────┴─────────┴───┴────────────┴──────────┴──────────┴────────────┘\n"
     ]
    }
   ],
   "execution_count": 3
  },
  {
   "metadata": {
    "ExecuteTime": {
     "end_time": "2025-01-29T20:05:25.686324Z",
     "start_time": "2025-01-29T20:04:03.703441Z"
    }
   },
   "cell_type": "code",
   "source": [
    "#Sample the DataFrame\n",
    "sample_rate = 0.001\n",
    "sampled_df = df.sample(fraction=sample_rate, seed=42)"
   ],
   "id": "e12083b0141a59b2",
   "outputs": [],
   "execution_count": 4
  },
  {
   "metadata": {
    "ExecuteTime": {
     "end_time": "2025-01-29T20:06:10.028940Z",
     "start_time": "2025-01-29T20:05:25.715677Z"
    }
   },
   "cell_type": "code",
   "source": [
    "desc_df = df.describe()\n",
    "desc_sampled_df = sampled_df.describe()"
   ],
   "id": "b40be77ed51146d",
   "outputs": [],
   "execution_count": 5
  },
  {
   "metadata": {},
   "cell_type": "markdown",
   "source": [
    "## Comparing Sampled and Original DataFrame\n",
    "This is to confirm that the sampled dataframe is a good representation of the original dataframe.\n",
    "Even though the sample is random, by setting the seed we can produce a predictable sample each time."
   ],
   "id": "a117b62b3244bee4"
  },
  {
   "metadata": {
    "ExecuteTime": {
     "end_time": "2025-01-29T20:12:01.388021Z",
     "start_time": "2025-01-29T20:12:01.370938Z"
    }
   },
   "cell_type": "code",
   "source": [
    "numeric_types = [pl.Float64, pl.Int64]\n",
    "numeric_columns = [column_name for column_name in desc_df.columns\n",
    "                        if desc_df[column_name].dtype in numeric_types]\n",
    "\n",
    "desc_df = desc_df.select(numeric_columns)\n",
    "desc_sampled_df = desc_sampled_df.select(numeric_columns)\n",
    "\n",
    "# Calculating the difference between the original and sampled DataFrames\n",
    "diff_df = desc_df - desc_sampled_df\n",
    "\n",
    "diff_df = diff_df.with_columns(pl.lit(desc_df['statistic']).alias('statistical_method'))\n",
    "\n",
    "final_diff_df = diff_df.select(['statistical_method', 'range_km', 'Mag', 'epsecs', 'az_rad', 'el_rad', 'phase_angle_rad'])\n",
    "\n",
    "final_diff_df"
   ],
   "id": "89e9981b25281263",
   "outputs": [
    {
     "data": {
      "text/plain": [
       "shape: (9, 7)\n",
       "┌──────────────┬─────────────┬─────────────┬─────────────┬─────────────┬─────────────┬─────────────┐\n",
       "│ statistical_ ┆ range_km    ┆ Mag         ┆ epsecs      ┆ az_rad      ┆ el_rad      ┆ phase_angle │\n",
       "│ method       ┆ ---         ┆ ---         ┆ ---         ┆ ---         ┆ ---         ┆ _rad        │\n",
       "│ ---          ┆ f64         ┆ f64         ┆ f64         ┆ f64         ┆ f64         ┆ ---         │\n",
       "│ str          ┆             ┆             ┆             ┆             ┆             ┆ f64         │\n",
       "╞══════════════╪═════════════╪═════════════╪═════════════╪═════════════╪═════════════╪═════════════╡\n",
       "│ count        ┆ 2.78354865e ┆ 2.78354865e ┆ 2.78354865e ┆ 2.78354865e ┆ 2.78354865e ┆ 2.78354865e │\n",
       "│              ┆ 8           ┆ 8           ┆ 8           ┆ 8           ┆ 8           ┆ 8           │\n",
       "│ null_count   ┆ 0.0         ┆ 0.0         ┆ 0.0         ┆ 0.0         ┆ 0.0         ┆ 0.0         │\n",
       "│ mean         ┆ -9.966797   ┆ -0.000007   ┆ 0.794464    ┆ -0.002712   ┆ -0.00028    ┆ 0.000491    │\n",
       "│ std          ┆ -22.34375   ┆ 0.000887    ┆ -1.713379   ┆ -0.000327   ┆ -0.000046   ┆ -0.000078   │\n",
       "│ min          ┆ -66.51059   ┆ -0.65757    ┆ 0.0         ┆ -0.000017   ┆ -0.000479   ┆ -0.008983   │\n",
       "│ 25%          ┆ 0.025024    ┆ -0.00297    ┆ -0.097      ┆ -0.00637    ┆ -0.000304   ┆ 0.00029     │\n",
       "│ 50%          ┆ 3.798096    ┆ -0.00098    ┆ 0.104004    ┆ -0.002287   ┆ -0.000602   ┆ 0.001348    │\n",
       "│ 75%          ┆ -24.079102  ┆ 0.00218     ┆ 2.088013    ┆ -0.002459   ┆ 0.000017    ┆ -0.000223   │\n",
       "│ max          ┆ 12.96875    ┆ 0.981       ┆ 698.699219  ┆ 0.000008    ┆ 0.000378    ┆ 0.05932     │\n",
       "└──────────────┴─────────────┴─────────────┴─────────────┴─────────────┴─────────────┴─────────────┘"
      ],
      "text/html": [
       "<div><style>\n",
       ".dataframe > thead > tr,\n",
       ".dataframe > tbody > tr {\n",
       "  text-align: right;\n",
       "  white-space: pre-wrap;\n",
       "}\n",
       "</style>\n",
       "<small>shape: (9, 7)</small><table border=\"1\" class=\"dataframe\"><thead><tr><th>statistical_method</th><th>range_km</th><th>Mag</th><th>epsecs</th><th>az_rad</th><th>el_rad</th><th>phase_angle_rad</th></tr><tr><td>str</td><td>f64</td><td>f64</td><td>f64</td><td>f64</td><td>f64</td><td>f64</td></tr></thead><tbody><tr><td>&quot;count&quot;</td><td>2.78354865e8</td><td>2.78354865e8</td><td>2.78354865e8</td><td>2.78354865e8</td><td>2.78354865e8</td><td>2.78354865e8</td></tr><tr><td>&quot;null_count&quot;</td><td>0.0</td><td>0.0</td><td>0.0</td><td>0.0</td><td>0.0</td><td>0.0</td></tr><tr><td>&quot;mean&quot;</td><td>-9.966797</td><td>-0.000007</td><td>0.794464</td><td>-0.002712</td><td>-0.00028</td><td>0.000491</td></tr><tr><td>&quot;std&quot;</td><td>-22.34375</td><td>0.000887</td><td>-1.713379</td><td>-0.000327</td><td>-0.000046</td><td>-0.000078</td></tr><tr><td>&quot;min&quot;</td><td>-66.51059</td><td>-0.65757</td><td>0.0</td><td>-0.000017</td><td>-0.000479</td><td>-0.008983</td></tr><tr><td>&quot;25%&quot;</td><td>0.025024</td><td>-0.00297</td><td>-0.097</td><td>-0.00637</td><td>-0.000304</td><td>0.00029</td></tr><tr><td>&quot;50%&quot;</td><td>3.798096</td><td>-0.00098</td><td>0.104004</td><td>-0.002287</td><td>-0.000602</td><td>0.001348</td></tr><tr><td>&quot;75%&quot;</td><td>-24.079102</td><td>0.00218</td><td>2.088013</td><td>-0.002459</td><td>0.000017</td><td>-0.000223</td></tr><tr><td>&quot;max&quot;</td><td>12.96875</td><td>0.981</td><td>698.699219</td><td>0.000008</td><td>0.000378</td><td>0.05932</td></tr></tbody></table></div>"
      ]
     },
     "execution_count": 20,
     "metadata": {},
     "output_type": "execute_result"
    }
   ],
   "execution_count": 20
  },
  {
   "metadata": {},
   "cell_type": "markdown",
   "source": [
    "## Observations\n",
    "Since the random sample does not significantly alter the means or quantiles of the column values, we can replace the original dataframe with the sampled dataframe."
   ],
   "id": "d4c4f9519cb44b01"
  },
  {
   "metadata": {},
   "cell_type": "markdown",
   "source": [
    "### Final Method to Load Data (replicated in every notebook)\n",
    "Pre-sampling the dataframe and then selecting it using Lazyframe and then collect it."
   ],
   "id": "30f6c4eb6df69865"
  },
  {
   "metadata": {},
   "cell_type": "code",
   "outputs": [],
   "execution_count": null,
   "source": [
    "sample_rate = 0.001\n",
    "lf = lf.with_row_index(\"row_num\")\n",
    "\n",
    "sampled_lf = lf.filter(pl.col(\"row_num\") % int(1/sample_rate) == 0)\n",
    "sampled_df = sampled_lf.collect()\n",
    "\n",
    "print(sampled_df.head())"
   ],
   "id": "28e0e75ea39b5970"
  }
 ],
 "metadata": {
  "kernelspec": {
   "display_name": "Python 3",
   "language": "python",
   "name": "python3"
  },
  "language_info": {
   "codemirror_mode": {
    "name": "ipython",
    "version": 2
   },
   "file_extension": ".py",
   "mimetype": "text/x-python",
   "name": "python",
   "nbconvert_exporter": "python",
   "pygments_lexer": "ipython2",
   "version": "2.7.6"
  }
 },
 "nbformat": 4,
 "nbformat_minor": 5
}
